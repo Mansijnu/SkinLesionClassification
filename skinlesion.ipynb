{
  "nbformat": 4,
  "nbformat_minor": 0,
  "metadata": {
    "colab": {
      "name": "Untitled7.ipynb",
      "provenance": [],
      "collapsed_sections": []
    },
    "kernelspec": {
      "name": "python3",
      "display_name": "Python 3"
    }
  },
  "cells": [
    {
      "cell_type": "code",
      "metadata": {
        "id": "mj5I-Nu7Z0t3"
      },
      "source": [
        "import os\r\n",
        "import shutil\r\n",
        "import pandas as pd\r\n",
        "import numpy as np\r\n",
        "import matplotlib.pyplot as plt\r\n",
        "from sklearn.model_selection import train_test_split\r\n",
        "from tensorflow.keras.layers import Dense, Dropout, GlobalAveragePooling2D\r\n",
        "from tensorflow.keras.optimizers import Adam\r\n",
        "from tensorflow.keras.metrics import categorical_crossentropy\r\n",
        "from tensorflow.keras.preprocessing.image import ImageDataGenerator\r\n",
        "from tensorflow.keras.models import Model\r\n",
        "from tensorflow.keras.callbacks import EarlyStopping, ModelCheckpoint\r\n",
        "from tensorflow.keras.applications.resnet import ResNet152, preprocess_input\r\n",
        "%matplotlib inline "
      ],
      "execution_count": 2,
      "outputs": []
    },
    {
      "cell_type": "code",
      "metadata": {
        "colab": {
          "base_uri": "https://localhost:8080/"
        },
        "id": "29Ou41xLFKPt",
        "outputId": "73ab25e0-8b7f-4a5e-9805-cfa19bffd8f6"
      },
      "source": [
        "from google.colab import drive\n",
        "drive.mount('/content/drive')"
      ],
      "execution_count": 1,
      "outputs": [
        {
          "output_type": "stream",
          "text": [
            "Mounted at /content/drive\n"
          ],
          "name": "stdout"
        }
      ]
    },
    {
      "cell_type": "code",
      "metadata": {
        "id": "6rtpArfaZ8u-"
      },
      "source": [
        "train_dir = 'train'\r\n",
        "os.mkdir(train_dir)\r\n",
        "val_dir = 'val'\r\n",
        "os.mkdir(val_dir)\r\n",
        "os.mkdir(os.path.join(train_dir, 'nv'))\r\n",
        "os.mkdir(os.path.join(train_dir, 'mel'))\r\n",
        "os.mkdir(os.path.join(train_dir, 'bkl'))\r\n",
        "os.mkdir(os.path.join(train_dir, 'bcc'))\r\n",
        "os.mkdir(os.path.join(train_dir, 'akiec'))\r\n",
        "os.mkdir(os.path.join(train_dir, 'vasc'))\r\n",
        "os.mkdir(os.path.join(train_dir, 'df'))\r\n",
        "os.mkdir(os.path.join(val_dir, 'nv'))\r\n",
        "os.mkdir(os.path.join(val_dir, 'mel'))\r\n",
        "os.mkdir(os.path.join(val_dir, 'bkl'))\r\n",
        "os.mkdir(os.path.join(val_dir, 'bcc'))\r\n",
        "os.mkdir(os.path.join(val_dir, 'akiec'))\r\n",
        "os.mkdir(os.path.join(val_dir, 'vasc'))\r\n",
        "os.mkdir(os.path.join(val_dir, 'df')) "
      ],
      "execution_count": 3,
      "outputs": []
    },
    {
      "cell_type": "code",
      "metadata": {
        "id": "0Dxgdg3PaM3H"
      },
      "source": [
        "!cp -r \"/content/drive/MyDrive/HAM10000_metadata (1).csv\" ./metadata"
      ],
      "execution_count": 4,
      "outputs": []
    },
    {
      "cell_type": "code",
      "metadata": {
        "colab": {
          "base_uri": "https://localhost:8080/",
          "height": 202
        },
        "id": "_AycE9KPaToT",
        "outputId": "5a80b385-acaa-4f47-8bff-775e8e875114"
      },
      "source": [
        "import pandas as pd\r\n",
        "df_data = pd.read_csv('metadata')\r\n",
        "df_data.head() "
      ],
      "execution_count": 5,
      "outputs": [
        {
          "output_type": "execute_result",
          "data": {
            "text/html": [
              "<div>\n",
              "<style scoped>\n",
              "    .dataframe tbody tr th:only-of-type {\n",
              "        vertical-align: middle;\n",
              "    }\n",
              "\n",
              "    .dataframe tbody tr th {\n",
              "        vertical-align: top;\n",
              "    }\n",
              "\n",
              "    .dataframe thead th {\n",
              "        text-align: right;\n",
              "    }\n",
              "</style>\n",
              "<table border=\"1\" class=\"dataframe\">\n",
              "  <thead>\n",
              "    <tr style=\"text-align: right;\">\n",
              "      <th></th>\n",
              "      <th>lesion_id</th>\n",
              "      <th>image_id</th>\n",
              "      <th>dx</th>\n",
              "      <th>dx_type</th>\n",
              "      <th>age</th>\n",
              "      <th>sex</th>\n",
              "      <th>localization</th>\n",
              "    </tr>\n",
              "  </thead>\n",
              "  <tbody>\n",
              "    <tr>\n",
              "      <th>0</th>\n",
              "      <td>HAM_0000118</td>\n",
              "      <td>ISIC_0027419</td>\n",
              "      <td>bkl</td>\n",
              "      <td>histo</td>\n",
              "      <td>80.0</td>\n",
              "      <td>male</td>\n",
              "      <td>scalp</td>\n",
              "    </tr>\n",
              "    <tr>\n",
              "      <th>1</th>\n",
              "      <td>HAM_0000118</td>\n",
              "      <td>ISIC_0025030</td>\n",
              "      <td>bkl</td>\n",
              "      <td>histo</td>\n",
              "      <td>80.0</td>\n",
              "      <td>male</td>\n",
              "      <td>scalp</td>\n",
              "    </tr>\n",
              "    <tr>\n",
              "      <th>2</th>\n",
              "      <td>HAM_0002730</td>\n",
              "      <td>ISIC_0026769</td>\n",
              "      <td>bkl</td>\n",
              "      <td>histo</td>\n",
              "      <td>80.0</td>\n",
              "      <td>male</td>\n",
              "      <td>scalp</td>\n",
              "    </tr>\n",
              "    <tr>\n",
              "      <th>3</th>\n",
              "      <td>HAM_0002730</td>\n",
              "      <td>ISIC_0025661</td>\n",
              "      <td>bkl</td>\n",
              "      <td>histo</td>\n",
              "      <td>80.0</td>\n",
              "      <td>male</td>\n",
              "      <td>scalp</td>\n",
              "    </tr>\n",
              "    <tr>\n",
              "      <th>4</th>\n",
              "      <td>HAM_0001466</td>\n",
              "      <td>ISIC_0031633</td>\n",
              "      <td>bkl</td>\n",
              "      <td>histo</td>\n",
              "      <td>75.0</td>\n",
              "      <td>male</td>\n",
              "      <td>ear</td>\n",
              "    </tr>\n",
              "  </tbody>\n",
              "</table>\n",
              "</div>"
            ],
            "text/plain": [
              "     lesion_id      image_id   dx dx_type   age   sex localization\n",
              "0  HAM_0000118  ISIC_0027419  bkl   histo  80.0  male        scalp\n",
              "1  HAM_0000118  ISIC_0025030  bkl   histo  80.0  male        scalp\n",
              "2  HAM_0002730  ISIC_0026769  bkl   histo  80.0  male        scalp\n",
              "3  HAM_0002730  ISIC_0025661  bkl   histo  80.0  male        scalp\n",
              "4  HAM_0001466  ISIC_0031633  bkl   histo  75.0  male          ear"
            ]
          },
          "metadata": {
            "tags": []
          },
          "execution_count": 5
        }
      ]
    },
    {
      "cell_type": "code",
      "metadata": {
        "id": "QKONNKyvaesr"
      },
      "source": [
        "y=df_data.dx\r\n",
        "df_train,df_test=train_test_split(df_data,test_size=0.1,random_state=100,stratify=y)"
      ],
      "execution_count": 6,
      "outputs": []
    },
    {
      "cell_type": "code",
      "metadata": {
        "colab": {
          "base_uri": "https://localhost:8080/"
        },
        "id": "fHk6CNOUa0SE",
        "outputId": "5220e13c-1a57-4246-caba-7f390bdf96a7"
      },
      "source": [
        "print(df_train.shape)\r\n",
        "print(df_test.shape)"
      ],
      "execution_count": 7,
      "outputs": [
        {
          "output_type": "stream",
          "text": [
            "(9013, 7)\n",
            "(1002, 7)\n"
          ],
          "name": "stdout"
        }
      ]
    },
    {
      "cell_type": "code",
      "metadata": {
        "colab": {
          "base_uri": "https://localhost:8080/"
        },
        "id": "7osnEwEza440",
        "outputId": "f8475214-7dc4-4ab7-f628-070b70ad0c2d"
      },
      "source": [
        "df_train['dx'].value_counts()"
      ],
      "execution_count": 8,
      "outputs": [
        {
          "output_type": "execute_result",
          "data": {
            "text/plain": [
              "nv       6034\n",
              "mel      1002\n",
              "bkl       989\n",
              "bcc       463\n",
              "akiec     294\n",
              "vasc      128\n",
              "df        103\n",
              "Name: dx, dtype: int64"
            ]
          },
          "metadata": {
            "tags": []
          },
          "execution_count": 8
        }
      ]
    },
    {
      "cell_type": "code",
      "metadata": {
        "colab": {
          "base_uri": "https://localhost:8080/"
        },
        "id": "IiXGtbTva8uA",
        "outputId": "c5667c84-f365-4a89-d835-9ce8bd12c443"
      },
      "source": [
        "df_test['dx'].value_counts()"
      ],
      "execution_count": 9,
      "outputs": [
        {
          "output_type": "execute_result",
          "data": {
            "text/plain": [
              "nv       671\n",
              "mel      111\n",
              "bkl      110\n",
              "bcc       51\n",
              "akiec     33\n",
              "vasc      14\n",
              "df        12\n",
              "Name: dx, dtype: int64"
            ]
          },
          "metadata": {
            "tags": []
          },
          "execution_count": 9
        }
      ]
    },
    {
      "cell_type": "code",
      "metadata": {
        "id": "pYrUp3FSbAFM"
      },
      "source": [
        "all_img=list(df_data.image_id)\r\n",
        "train_img=list(df_train.image_id)\r\n",
        "test_img=list(df_test.image_id)"
      ],
      "execution_count": 10,
      "outputs": []
    },
    {
      "cell_type": "code",
      "metadata": {
        "id": "QNbJ_wmmbPSc"
      },
      "source": [
        "df_data.set_index('image_id', inplace=True)"
      ],
      "execution_count": 11,
      "outputs": []
    },
    {
      "cell_type": "code",
      "metadata": {
        "id": "hOQlnzQWbYAL"
      },
      "source": [
        "folder_1 = os.listdir(r'/content/drive/MyDrive/skincancer/hampart1')\r\n",
        "folder_2 = os.listdir(r'/content/drive/MyDrive/skincancer/hampart2')"
      ],
      "execution_count": 12,
      "outputs": []
    },
    {
      "cell_type": "code",
      "metadata": {
        "id": "SZmLV4mibobz"
      },
      "source": [
        "for imgs in all_img:\r\n",
        "    full_imgname=imgs+'.jpg'\r\n",
        "    if imgs in train_img:\r\n",
        "        sub_dir=train_dir\r\n",
        "    else:\r\n",
        "        sub_dir=val_dir\r\n",
        "    if full_imgname in folder_1:\r\n",
        "        source_dir=os.path.join(r'/content/drive/MyDrive/skincancer/hampart1',full_imgname)\r\n",
        "    else:\r\n",
        "        source_dir=os.path.join(r'/content/drive/MyDrive/skincancer/hampart2',full_imgname)       \r\n",
        "    label=df_data.loc[imgs,'dx']\r\n",
        "    final_dir=os.path.join(os.getcwd(),sub_dir,label,full_imgname)\r\n",
        "    shutil.copyfile(source_dir, final_dir)"
      ],
      "execution_count": 13,
      "outputs": []
    },
    {
      "cell_type": "code",
      "metadata": {
        "id": "oLnDCDJAb5jJ"
      },
      "source": [
        "classes= ['nv','mel','bkl','bcc','akiec','vasc','df']"
      ],
      "execution_count": 14,
      "outputs": []
    },
    {
      "cell_type": "code",
      "metadata": {
        "id": "CqAc0hUO3mTc"
      },
      "source": [
        "from sklearn.model_selection import train_test_split\r\n",
        "from PIL import Image\r\n",
        "import shutil\r\n",
        "import cv2\r\n",
        "import matplotlib.pyplot as plt"
      ],
      "execution_count": 15,
      "outputs": []
    },
    {
      "cell_type": "code",
      "metadata": {
        "colab": {
          "base_uri": "https://localhost:8080/"
        },
        "id": "gPOwvpoj3hXW",
        "outputId": "90174bef-0b7f-473d-af75-a21249512eda"
      },
      "source": [
        "print(len(os.listdir('train/nv'))) \r\n",
        "print(len(os.listdir('train/mel'))) \r\n",
        "print(len(os.listdir('train/bkl'))) \r\n",
        "print(len(os.listdir('train/bcc'))) \r\n",
        "print(len(os.listdir('train/akiec'))) \r\n",
        "print(len(os.listdir('train/vasc'))) \r\n",
        "print(len(os.listdir('train/df'))) \r\n",
        "print('========================')\r\n",
        "print(len(os.listdir('val/nv'))) \r\n",
        "print(len(os.listdir('val/mel'))) \r\n",
        "print(len(os.listdir('val/bkl'))) \r\n",
        "print(len(os.listdir('val/bcc'))) \r\n",
        "print(len(os.listdir('val/akiec'))) \r\n",
        "print(len(os.listdir('val/vasc'))) \r\n",
        "print(len(os.listdir('val/df'))) "
      ],
      "execution_count": 16,
      "outputs": [
        {
          "output_type": "stream",
          "text": [
            "6034\n",
            "1002\n",
            "989\n",
            "463\n",
            "294\n",
            "128\n",
            "103\n",
            "========================\n",
            "671\n",
            "111\n",
            "110\n",
            "51\n",
            "33\n",
            "14\n",
            "12\n"
          ],
          "name": "stdout"
        }
      ]
    },
    {
      "cell_type": "code",
      "metadata": {
        "colab": {
          "base_uri": "https://localhost:8080/"
        },
        "id": "SSFagBtA4ePf",
        "outputId": "570fcbf1-e3df-4f9e-b6f3-0dd22d20ee2a"
      },
      "source": [
        "class_list = ['mel','bkl','bcc','akiec','vasc','df']\r\n",
        "for item in class_list:\r\n",
        "     \r\n",
        "    aug_dir = 'aug_dir'\r\n",
        "    os.mkdir(aug_dir)\r\n",
        "    img_dir = os.path.join(aug_dir, 'img_dir')\r\n",
        "    os.mkdir(img_dir)\r\n",
        "    img_class = item\r\n",
        "    img_list = os.listdir('train/' + img_class)\r\n",
        "    for fname in img_list:\r\n",
        "        shutil.copyfile(\r\n",
        "            os.path.join('train/' + img_class, fname), \r\n",
        "            os.path.join(img_dir, fname))\r\n",
        "    datagen = ImageDataGenerator(\r\n",
        "        rotation_range=180,\r\n",
        "        width_shift_range=0.1,\r\n",
        "        height_shift_range=0.1,\r\n",
        "        zoom_range=0.1,\r\n",
        "        horizontal_flip=True,\r\n",
        "        vertical_flip=True,\r\n",
        "        fill_mode='nearest')\r\n",
        "    batch_size = 50\r\n",
        "     \r\n",
        "    aug_datagen = datagen.flow_from_directory(\r\n",
        "        'aug_dir',\r\n",
        "        save_to_dir='train/' + img_class,\r\n",
        "        save_format='jpg',\r\n",
        "        target_size=(28,28),\r\n",
        "        batch_size=batch_size)\r\n",
        "    num_aug_images_wanted = 5000 \r\n",
        "     \r\n",
        "    num_files = len(os.listdir(img_dir))\r\n",
        "    num_batches = int(np.ceil((num_aug_images_wanted-num_files)/batch_size))\r\n",
        "    for i in range(0,num_batches):\r\n",
        "        imgs, labels = next(aug_datagen)\r\n",
        "         \r\n",
        "    shutil.rmtree('aug_dir') "
      ],
      "execution_count": 17,
      "outputs": [
        {
          "output_type": "stream",
          "text": [
            "Found 1002 images belonging to 1 classes.\n",
            "Found 989 images belonging to 1 classes.\n",
            "Found 463 images belonging to 1 classes.\n",
            "Found 294 images belonging to 1 classes.\n",
            "Found 128 images belonging to 1 classes.\n",
            "Found 103 images belonging to 1 classes.\n"
          ],
          "name": "stdout"
        }
      ]
    },
    {
      "cell_type": "code",
      "metadata": {
        "colab": {
          "base_uri": "https://localhost:8080/"
        },
        "id": "tYjfA9If68Ky",
        "outputId": "1df4aa06-74f6-4639-8708-a24eac608fe3"
      },
      "source": [
        "print(str(len(os.listdir('train/nv'))) + ' in nv dir')\r\n",
        "print(str(len(os.listdir('train/mel'))) + ' in mel dir')\r\n",
        "print(str(len(os.listdir('train/bkl'))) + ' in bkl dir')\r\n",
        "print(str(len(os.listdir('train/bcc'))) + ' in bcc dir')\r\n",
        "print(str(len(os.listdir('train/akiec'))) + ' in akiec dir')\r\n",
        "print(str(len(os.listdir('train/vasc'))) + ' in vasc dir')\r\n",
        "print(str(len(os.listdir('train/df'))) + ' in df dir')"
      ],
      "execution_count": 18,
      "outputs": [
        {
          "output_type": "stream",
          "text": [
            "6034 in nv dir\n",
            "4858 in mel dir\n",
            "4995 in bkl dir\n",
            "4680 in bcc dir\n",
            "4954 in akiec dir\n",
            "4324 in vasc dir\n",
            "3499 in df dir\n"
          ],
          "name": "stdout"
        }
      ]
    },
    {
      "cell_type": "code",
      "metadata": {
        "colab": {
          "base_uri": "https://localhost:8080/",
          "height": 357
        },
        "id": "wH0fTlN95VF9",
        "outputId": "4a30e6de-9f5e-47c8-f0bb-e7a9f87f4e4a"
      },
      "source": [
        "# plots images with labels within jupyter notebook\r\n",
        "\r\n",
        "def plots(ims, figsize=(12,6), rows=5, interp=False, titles=None): # 12,6\r\n",
        "    if type(ims[0]) is np.ndarray:\r\n",
        "        ims = np.array(ims).astype(np.uint8)\r\n",
        "        if (ims.shape[-1] != 3):\r\n",
        "            ims = ims.transpose((0,2,3,1))\r\n",
        "    f = plt.figure(figsize=figsize)\r\n",
        "    cols = len(ims)//rows if len(ims) % 2 == 0 else len(ims)//rows + 1\r\n",
        "    for i in range(len(ims)):\r\n",
        "        sp = f.add_subplot(rows, cols, i+1)\r\n",
        "        sp.axis('Off')\r\n",
        "        if titles is not None:\r\n",
        "            sp.set_title(titles[i], fontsize=16)\r\n",
        "        plt.imshow(ims[i], interpolation=None if interp else 'none')\r\n",
        "         \r\n",
        "plots(imgs, titles=None) "
      ],
      "execution_count": 19,
      "outputs": [
        {
          "output_type": "display_data",
          "data": {
            "image/png": "[encoded data removed]",
            "text/plain": [
              "<Figure size 864x432 with 50 Axes>"
            ]
          },
          "metadata": {
            "tags": [],
            "needs_background": "light"
          }
        }
      ]
    },
    {
      "cell_type": "code",
      "metadata": {
        "id": "5EbpwhTK6xzo"
      },
      "source": [
        "x_train=[]\r\n",
        "y_train=[]\r\n",
        "\r\n",
        "for i in classes:\r\n",
        "    path=os.path.join(os.getcwd(),train_dir,i)\r\n",
        "    f=os.listdir(path)\r\n",
        "    for imgs in f:\r\n",
        "        show_img=cv2.imread(os.path.join(path,imgs))\r\n",
        "        show_img=cv2.resize(show_img,(28,28))\r\n",
        "        x_train.append(show_img)\r\n",
        "        y_train.append(i)"
      ],
      "execution_count": 20,
      "outputs": []
    },
    {
      "cell_type": "code",
      "metadata": {
        "id": "TR6V83aF7VmR"
      },
      "source": [
        "x_train_n=np.array(x_train)\r\n",
        "y_train_n=np.array(y_train)"
      ],
      "execution_count": 21,
      "outputs": []
    },
    {
      "cell_type": "code",
      "metadata": {
        "colab": {
          "base_uri": "https://localhost:8080/"
        },
        "id": "e8TKq7PJ72ZR",
        "outputId": "80292c4e-8673-4b5f-f376-f11396c7d933"
      },
      "source": [
        "print(x_train_n.shape)\r\n",
        "print(y_train_n.shape)"
      ],
      "execution_count": 22,
      "outputs": [
        {
          "output_type": "stream",
          "text": [
            "(33344, 28, 28, 3)\n",
            "(33344,)\n"
          ],
          "name": "stdout"
        }
      ]
    },
    {
      "cell_type": "code",
      "metadata": {
        "id": "PbIbcWIX756S"
      },
      "source": [
        "x_test=[]\r\n",
        "y_test=[]\r\n",
        "\r\n",
        "for i in classes:\r\n",
        "    path=os.path.join(os.getcwd(),val_dir,i)\r\n",
        "    f=os.listdir(path)\r\n",
        "    for imgs in f:\r\n",
        "        show_img=cv2.imread(os.path.join(path,imgs))\r\n",
        "        show_img=cv2.resize(show_img,(28,28),interpolation=cv2.INTER_AREA)\r\n",
        "        x_test.append(show_img)\r\n",
        "        y_test.append(i)"
      ],
      "execution_count": 23,
      "outputs": []
    },
    {
      "cell_type": "code",
      "metadata": {
        "id": "imyxImAF83IF"
      },
      "source": [
        "x_test_n=np.array(x_test)\r\n",
        "y_test_n=np.array(y_test)"
      ],
      "execution_count": 24,
      "outputs": []
    },
    {
      "cell_type": "code",
      "metadata": {
        "colab": {
          "base_uri": "https://localhost:8080/"
        },
        "id": "MDi0e4ko9BwL",
        "outputId": "29884194-ba0f-4a17-d26f-292d43559dd0"
      },
      "source": [
        "print(x_test_n.shape)\r\n",
        "print(y_test_n.shape)"
      ],
      "execution_count": 25,
      "outputs": [
        {
          "output_type": "stream",
          "text": [
            "(1002, 28, 28, 3)\n",
            "(1002,)\n"
          ],
          "name": "stdout"
        }
      ]
    },
    {
      "cell_type": "code",
      "metadata": {
        "id": "aybvcvbm9D1U"
      },
      "source": [
        "y_test_n =pd.get_dummies(y_test_n)\r\n",
        "y_train_n =pd.get_dummies(y_train_n)"
      ],
      "execution_count": 26,
      "outputs": []
    },
    {
      "cell_type": "code",
      "metadata": {
        "colab": {
          "base_uri": "https://localhost:8080/"
        },
        "id": "yT8GL8B59HBL",
        "outputId": "df299688-1e95-4b0f-f4db-ddf4d209bccb"
      },
      "source": [
        "print(y_test_n.shape)\r\n",
        "print(y_train_n.shape)"
      ],
      "execution_count": 27,
      "outputs": [
        {
          "output_type": "stream",
          "text": [
            "(1002, 7)\n",
            "(33344, 7)\n"
          ],
          "name": "stdout"
        }
      ]
    },
    {
      "cell_type": "code",
      "metadata": {
        "id": "MchH-QjT9JbW"
      },
      "source": [
        "def preprocess(img):\r\n",
        "    img = img/255\r\n",
        "    return img\r\n",
        "\r\n",
        "x_test_n = np.array(list(map(preprocess, x_test_n)))\r\n",
        "x_train_n = np.array(list(map(preprocess, x_train_n)))"
      ],
      "execution_count": 28,
      "outputs": []
    },
    {
      "cell_type": "code",
      "metadata": {
        "id": "h1biaRfFeXXf"
      },
      "source": [
        "num_train_samples = len(x_train_n)\r\n",
        "num_val_samples = len(x_test_n)\r\n",
        "train_batch_size = 32\r\n",
        "val_batch_size = 32 "
      ],
      "execution_count": 51,
      "outputs": []
    },
    {
      "cell_type": "code",
      "metadata": {
        "id": "uvX-8ceiemhq"
      },
      "source": [
        "train_steps = np.ceil(num_train_samples / train_batch_size)\r\n",
        "val_steps = np.ceil(num_val_samples / val_batch_size) "
      ],
      "execution_count": 52,
      "outputs": []
    },
    {
      "cell_type": "code",
      "metadata": {
        "id": "YezU39wC9f89"
      },
      "source": [
        "from keras.models import Sequential\r\n",
        "from keras.optimizers import Adam\r\n",
        "from keras.layers.convolutional import Conv2D,MaxPooling2D\r\n",
        "from keras.layers import Dropout,Flatten,Dense\r\n"
      ],
      "execution_count": 29,
      "outputs": []
    },
    {
      "cell_type": "code",
      "metadata": {
        "colab": {
          "base_uri": "https://localhost:8080/"
        },
        "id": "e-59uOXW9TQu",
        "outputId": "40d53664-fc29-4116-ef7e-d13a2c49123c"
      },
      "source": [
        "model = Sequential()\r\n",
        "model.add(Conv2D(32,(3,3),activation = 'relu', input_shape=(28,28,3)))\r\n",
        "model.add(MaxPooling2D(2,2))\r\n",
        "model.add(Conv2D(64,(3,3),activation = 'relu'))\r\n",
        "model.add(MaxPooling2D(2,2))\r\n",
        "model.add(Conv2D(128,(3,3),activation = 'relu'))\r\n",
        "model.add(MaxPooling2D(2,2))\r\n",
        "\r\n",
        "model.add(Flatten())\r\n",
        "\r\n",
        "model.add(Dense(512,activation='sigmoid'))\r\n",
        "model.add(Dense(7,activation='softmax'))\r\n",
        "\r\n",
        "print(model.summary())"
      ],
      "execution_count": 91,
      "outputs": [
        {
          "output_type": "stream",
          "text": [
            "Model: \"sequential_4\"\n",
            "_________________________________________________________________\n",
            "Layer (type)                 Output Shape              Param #   \n",
            "=================================================================\n",
            "conv2d_12 (Conv2D)           (None, 26, 26, 32)        896       \n",
            "_________________________________________________________________\n",
            "max_pooling2d_12 (MaxPooling (None, 13, 13, 32)        0         \n",
            "_________________________________________________________________\n",
            "conv2d_13 (Conv2D)           (None, 11, 11, 64)        18496     \n",
            "_________________________________________________________________\n",
            "max_pooling2d_13 (MaxPooling (None, 5, 5, 64)          0         \n",
            "_________________________________________________________________\n",
            "conv2d_14 (Conv2D)           (None, 3, 3, 128)         73856     \n",
            "_________________________________________________________________\n",
            "max_pooling2d_14 (MaxPooling (None, 1, 1, 128)         0         \n",
            "_________________________________________________________________\n",
            "flatten_4 (Flatten)          (None, 128)               0         \n",
            "_________________________________________________________________\n",
            "dense_8 (Dense)              (None, 512)               66048     \n",
            "_________________________________________________________________\n",
            "dense_9 (Dense)              (None, 7)                 3591      \n",
            "=================================================================\n",
            "Total params: 162,887\n",
            "Trainable params: 162,887\n",
            "Non-trainable params: 0\n",
            "_________________________________________________________________\n",
            "None\n"
          ],
          "name": "stdout"
        }
      ]
    },
    {
      "cell_type": "code",
      "metadata": {
        "id": "zHNBlOjm9cSw"
      },
      "source": [
        "\r\n",
        "model.compile(optimizer='adam',\r\n",
        "              loss='categorical_crossentropy',\r\n",
        "              metrics=['accuracy'])"
      ],
      "execution_count": 92,
      "outputs": []
    },
    {
      "cell_type": "code",
      "metadata": {
        "id": "CYSpkXVK98kf"
      },
      "source": [
        "class myCallback(tensorflow.keras.callbacks.Callback):\r\n",
        "    def on_epoch_end(self, epoch, logs={}):\r\n",
        "        if(logs.get('accuracy')>0.900):\r\n",
        "            print(\"\\nReached 79% val_accuracy so cancelling training!\")\r\n",
        "            self.model.stop_training = True\r\n",
        "        \r\n",
        "callback = myCallback()"
      ],
      "execution_count": 93,
      "outputs": []
    },
    {
      "cell_type": "code",
      "metadata": {
        "id": "lCr4Exo80WVX"
      },
      "source": [
        "class myCallback1(tensorflow.keras.callbacks.Callback):\r\n",
        "    def on_epoch_end(self, epoch, logs={}):\r\n",
        "        if(logs.get('loss')<0.300):\r\n",
        "            print(\"\\nReached 79% val_accuracy so cancelling training!\")\r\n",
        "            self.model.stop_training = True\r\n",
        "        \r\n",
        "callback1 = myCallback1()"
      ],
      "execution_count": 94,
      "outputs": []
    },
    {
      "cell_type": "code",
      "metadata": {
        "colab": {
          "base_uri": "https://localhost:8080/"
        },
        "id": "h5Z7B9bN9nbh",
        "outputId": "51f0a969-8800-4809-b751-2774ddfe11fd"
      },
      "source": [
        "history=model.fit(x=x_train_n,y=y_train_n,verbose=1,callbacks=[callback,callback1],steps_per_epoch = train_steps,batch_size=train_batch_size,epochs=100,validation_data=(x_test_n,y_test_n))"
      ],
      "execution_count": 95,
      "outputs": [
        {
          "output_type": "stream",
          "text": [
            "Epoch 1/100\n",
            "1042/1042 [==============================] - 34s 33ms/step - loss: 1.4629 - accuracy: 0.4168 - val_loss: 1.1106 - val_accuracy: 0.5888\n",
            "Epoch 2/100\n",
            "1042/1042 [==============================] - 34s 32ms/step - loss: 1.1721 - accuracy: 0.5434 - val_loss: 0.8505 - val_accuracy: 0.6926\n",
            "Epoch 3/100\n",
            "1042/1042 [==============================] - 34s 32ms/step - loss: 1.0870 - accuracy: 0.5761 - val_loss: 0.8245 - val_accuracy: 0.6986\n",
            "Epoch 4/100\n",
            "1042/1042 [==============================] - 34s 33ms/step - loss: 1.0197 - accuracy: 0.6037 - val_loss: 0.7947 - val_accuracy: 0.7086\n",
            "Epoch 5/100\n",
            "1042/1042 [==============================] - 34s 33ms/step - loss: 0.9674 - accuracy: 0.6239 - val_loss: 0.8275 - val_accuracy: 0.7006\n",
            "Epoch 6/100\n",
            "1042/1042 [==============================] - 34s 33ms/step - loss: 0.9292 - accuracy: 0.6421 - val_loss: 0.8322 - val_accuracy: 0.6956\n",
            "Epoch 7/100\n",
            "1042/1042 [==============================] - 34s 33ms/step - loss: 0.8841 - accuracy: 0.6554 - val_loss: 0.7941 - val_accuracy: 0.7156\n",
            "Epoch 8/100\n",
            "1042/1042 [==============================] - 34s 33ms/step - loss: 0.8517 - accuracy: 0.6670 - val_loss: 0.7425 - val_accuracy: 0.7196\n",
            "Epoch 9/100\n",
            "1042/1042 [==============================] - 34s 33ms/step - loss: 0.8277 - accuracy: 0.6769 - val_loss: 0.7093 - val_accuracy: 0.7405\n",
            "Epoch 10/100\n",
            "1042/1042 [==============================] - 34s 33ms/step - loss: 0.7969 - accuracy: 0.6886 - val_loss: 0.7325 - val_accuracy: 0.7236\n",
            "Epoch 11/100\n",
            "1042/1042 [==============================] - 34s 32ms/step - loss: 0.7713 - accuracy: 0.6983 - val_loss: 0.8058 - val_accuracy: 0.7026\n",
            "Epoch 12/100\n",
            "1042/1042 [==============================] - 34s 33ms/step - loss: 0.7398 - accuracy: 0.7096 - val_loss: 0.8218 - val_accuracy: 0.7096\n",
            "Epoch 13/100\n",
            "1042/1042 [==============================] - 34s 33ms/step - loss: 0.7151 - accuracy: 0.7190 - val_loss: 0.7629 - val_accuracy: 0.7305\n",
            "Epoch 14/100\n",
            "1042/1042 [==============================] - 34s 33ms/step - loss: 0.6871 - accuracy: 0.7327 - val_loss: 0.7437 - val_accuracy: 0.7285\n",
            "Epoch 15/100\n",
            "1042/1042 [==============================] - 34s 33ms/step - loss: 0.6687 - accuracy: 0.7390 - val_loss: 0.7505 - val_accuracy: 0.7255\n",
            "Epoch 16/100\n",
            "1042/1042 [==============================] - 35s 33ms/step - loss: 0.6393 - accuracy: 0.7509 - val_loss: 0.8070 - val_accuracy: 0.7046\n",
            "Epoch 17/100\n",
            "1042/1042 [==============================] - 34s 32ms/step - loss: 0.6128 - accuracy: 0.7599 - val_loss: 0.7247 - val_accuracy: 0.7495\n",
            "Epoch 18/100\n",
            "1042/1042 [==============================] - 34s 32ms/step - loss: 0.5954 - accuracy: 0.7695 - val_loss: 0.7441 - val_accuracy: 0.7365\n",
            "Epoch 19/100\n",
            "1042/1042 [==============================] - 34s 33ms/step - loss: 0.5691 - accuracy: 0.7781 - val_loss: 0.7732 - val_accuracy: 0.7285\n",
            "Epoch 20/100\n",
            "1042/1042 [==============================] - 34s 33ms/step - loss: 0.5513 - accuracy: 0.7852 - val_loss: 0.7647 - val_accuracy: 0.7405\n",
            "Epoch 21/100\n",
            "1042/1042 [==============================] - 34s 33ms/step - loss: 0.5289 - accuracy: 0.7942 - val_loss: 0.7372 - val_accuracy: 0.7345\n",
            "Epoch 22/100\n",
            "1042/1042 [==============================] - 34s 33ms/step - loss: 0.5079 - accuracy: 0.8044 - val_loss: 0.8086 - val_accuracy: 0.7156\n",
            "Epoch 23/100\n",
            "1042/1042 [==============================] - 34s 33ms/step - loss: 0.4826 - accuracy: 0.8143 - val_loss: 0.8086 - val_accuracy: 0.7375\n",
            "Epoch 24/100\n",
            "1042/1042 [==============================] - 34s 33ms/step - loss: 0.4602 - accuracy: 0.8204 - val_loss: 0.7912 - val_accuracy: 0.7415\n",
            "Epoch 25/100\n",
            "1042/1042 [==============================] - 34s 33ms/step - loss: 0.4408 - accuracy: 0.8310 - val_loss: 0.8051 - val_accuracy: 0.7136\n",
            "Epoch 26/100\n",
            "1042/1042 [==============================] - 34s 33ms/step - loss: 0.4183 - accuracy: 0.8400 - val_loss: 0.8348 - val_accuracy: 0.7325\n",
            "Epoch 27/100\n",
            "1042/1042 [==============================] - 34s 33ms/step - loss: 0.4021 - accuracy: 0.8458 - val_loss: 0.8530 - val_accuracy: 0.7375\n",
            "Epoch 28/100\n",
            "1042/1042 [==============================] - 34s 33ms/step - loss: 0.3833 - accuracy: 0.8532 - val_loss: 0.8372 - val_accuracy: 0.7395\n",
            "Epoch 29/100\n",
            "1042/1042 [==============================] - 34s 33ms/step - loss: 0.3711 - accuracy: 0.8582 - val_loss: 0.8055 - val_accuracy: 0.7335\n",
            "Epoch 30/100\n",
            "1042/1042 [==============================] - 34s 33ms/step - loss: 0.3433 - accuracy: 0.8717 - val_loss: 0.8200 - val_accuracy: 0.7355\n",
            "Epoch 31/100\n",
            "1042/1042 [==============================] - 34s 33ms/step - loss: 0.3301 - accuracy: 0.8751 - val_loss: 0.8182 - val_accuracy: 0.7525\n",
            "Epoch 32/100\n",
            "1042/1042 [==============================] - 34s 33ms/step - loss: 0.3107 - accuracy: 0.8825 - val_loss: 0.9027 - val_accuracy: 0.7106\n",
            "Epoch 33/100\n",
            "1041/1042 [============================>.] - ETA: 0s - loss: 0.2986 - accuracy: 0.8881\n",
            "Reached 79% val_accuracy so cancelling training!\n",
            "1042/1042 [==============================] - 34s 33ms/step - loss: 0.2985 - accuracy: 0.8882 - val_loss: 0.8945 - val_accuracy: 0.7335\n"
          ],
          "name": "stdout"
        }
      ]
    },
    {
      "cell_type": "code",
      "metadata": {
        "colab": {
          "base_uri": "https://localhost:8080/"
        },
        "id": "AQyFBsGMGAHb",
        "outputId": "96b88efe-89c2-4269-899a-c57e2bb673c7"
      },
      "source": [
        "score=model.evaluate(x_test_n,y_test_n,verbose=0)\r\n",
        "print(\" test score: {} \".format(score[0]))\r\n",
        "print(\"test accuracy: {}\".format(score[1]))"
      ],
      "execution_count": 97,
      "outputs": [
        {
          "output_type": "stream",
          "text": [
            " test score: 0.8945264220237732 \n",
            "test accuracy: 0.7335329055786133\n"
          ],
          "name": "stdout"
        }
      ]
    },
    {
      "cell_type": "code",
      "metadata": {
        "colab": {
          "base_uri": "https://localhost:8080/",
          "height": 313
        },
        "id": "lBA2VSZJlbco",
        "outputId": "47f81567-3f24-45f8-e8e0-662341b76755"
      },
      "source": [
        "plt.plot(history.history['accuracy'])\r\n",
        "plt.plot(history.history['val_accuracy'])\r\n",
        "plt.title('accuracy')\r\n",
        "plt.xlabel('epochs')\r\n",
        "\r\n",
        "plt.legend(['training','validation'])"
      ],
      "execution_count": 107,
      "outputs": [
        {
          "output_type": "execute_result",
          "data": {
            "text/plain": [
              "<matplotlib.legend.Legend at 0x7f50fd554978>"
            ]
          },
          "metadata": {
            "tags": []
          },
          "execution_count": 107
        },
        {
          "output_type": "display_data",
          "data": {
            "image/png": "[encoded data removed]",
            "text/plain": [
              "<Figure size 432x288 with 1 Axes>"
            ]
          },
          "metadata": {
            "tags": [],
            "needs_background": "light"
          }
        }
      ]
    },
    {
      "cell_type": "code",
      "metadata": {
        "colab": {
          "base_uri": "https://localhost:8080/",
          "height": 313
        },
        "id": "XAlVRtT68q5T",
        "outputId": "61822e51-0fdc-4f2c-b779-e5651a6b6600"
      },
      "source": [
        "plt.plot(history.history['loss'])\r\n",
        "plt.plot(history.history['val_loss'])\r\n",
        "plt.title('loss')\r\n",
        "plt.xlabel('epochs')\r\n",
        "plt.legend(['training','validation'])"
      ],
      "execution_count": 99,
      "outputs": [
        {
          "output_type": "execute_result",
          "data": {
            "text/plain": [
              "<matplotlib.legend.Legend at 0x7f50fd0a6ba8>"
            ]
          },
          "metadata": {
            "tags": []
          },
          "execution_count": 99
        },
        {
          "output_type": "display_data",
          "data": {
            "image/png": "[encoded data removed]",
            "text/plain": [
              "<Figure size 432x288 with 1 Axes>"
            ]
          },
          "metadata": {
            "tags": [],
            "needs_background": "light"
          }
        }
      ]
    },
    {
      "cell_type": "code",
      "metadata": {
        "colab": {
          "resources": {
            "http://localhost:8080/nbextensions/google.colab/files.js": {
              "data": "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",
              "ok": true,
              "headers": [
                [
                  "content-type",
                  "application/javascript"
                ]
              ],
              "status": 200,
              "status_text": ""
            }
          },
          "base_uri": "https://localhost:8080/",
          "height": 73
        },
        "id": "IoN0IaoUGM6u",
        "outputId": "de72ca56-62ce-4685-e953-661dd50b42d6"
      },
      "source": [
        "from google.colab import files \r\n",
        "  \r\n",
        "  \r\n",
        "uploaded = files.upload()"
      ],
      "execution_count": 122,
      "outputs": [
        {
          "output_type": "display_data",
          "data": {
            "text/html": [
              "\n",
              "     <input type=\"file\" id=\"files-a09b2dba-5948-4521-94bc-e1a17b930b5f\" name=\"files[]\" multiple disabled\n",
              "        style=\"border:none\" />\n",
              "     <output id=\"result-a09b2dba-5948-4521-94bc-e1a17b930b5f\">\n",
              "      Upload widget is only available when the cell has been executed in the\n",
              "      current browser session. Please rerun this cell to enable.\n",
              "      </output>\n",
              "      <script src=\"/nbextensions/google.colab/files.js\"></script> "
            ],
            "text/plain": [
              "<IPython.core.display.HTML object>"
            ]
          },
          "metadata": {
            "tags": []
          }
        },
        {
          "output_type": "stream",
          "text": [
            "Saving lesion.jpg to lesion.jpg\n"
          ],
          "name": "stdout"
        }
      ]
    },
    {
      "cell_type": "code",
      "metadata": {
        "id": "dGo0fxUZGTnI"
      },
      "source": [
        "show_img=cv2.imread('lesion.jpg')"
      ],
      "execution_count": 123,
      "outputs": []
    },
    {
      "cell_type": "code",
      "metadata": {
        "id": "_SsxhWGNGh0C"
      },
      "source": [
        "show_img=cv2.resize(show_img,(28,28))"
      ],
      "execution_count": 124,
      "outputs": []
    },
    {
      "cell_type": "code",
      "metadata": {
        "id": "dIVWXqAjHDST"
      },
      "source": [
        "show_img_n=np.array(show_img)"
      ],
      "execution_count": 125,
      "outputs": []
    },
    {
      "cell_type": "code",
      "metadata": {
        "id": "Fb-rdSQ6HZVb"
      },
      "source": [
        "show_img_n=tensorflow.expand_dims(show_img_n, 0)\r\n",
        "predictions=model.predict(show_img_n)"
      ],
      "execution_count": 126,
      "outputs": []
    },
    {
      "cell_type": "code",
      "metadata": {
        "id": "O5VuQ0N6HipV"
      },
      "source": [
        "score = tensorflow.nn.softmax(predictions[0])\r\n"
      ],
      "execution_count": 127,
      "outputs": []
    },
    {
      "cell_type": "code",
      "metadata": {
        "colab": {
          "base_uri": "https://localhost:8080/"
        },
        "id": "L6Tv44b0H5Vl",
        "outputId": "84ac2f9f-d372-431d-eb4e-f9e268851ac7"
      },
      "source": [
        "print(\r\n",
        "    \"This image most likely belongs to \",\r\n",
        "    classes[np.argmax(score)]\r\n",
        ")"
      ],
      "execution_count": 128,
      "outputs": [
        {
          "output_type": "stream",
          "text": [
            "This image most likely belongs to  df\n"
          ],
          "name": "stdout"
        }
      ]
    },
    {
      "cell_type": "code",
      "metadata": {
        "id": "JO5eEr2WJInr"
      },
      "source": [
        ""
      ],
      "execution_count": null,
      "outputs": []
    }
  ]
}